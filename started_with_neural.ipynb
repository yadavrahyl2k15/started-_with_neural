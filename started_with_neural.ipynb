{
  "nbformat": 4,
  "nbformat_minor": 0,
  "metadata": {
    "colab": {
      "name": "started_with_neural.ipynb",
      "provenance": [],
      "authorship_tag": "ABX9TyON7rI9RRoVsq8f9tc2OeIE",
      "include_colab_link": true
    },
    "kernelspec": {
      "name": "python3",
      "display_name": "Python 3"
    }
  },
  "cells": [
    {
      "cell_type": "markdown",
      "metadata": {
        "id": "view-in-github",
        "colab_type": "text"
      },
      "source": [
        "<a href=\"https://colab.research.google.com/github/yadavrahyl2k15/started-_with_neural/blob/main/started_with_neural.ipynb\" target=\"_parent\"><img src=\"https://colab.research.google.com/assets/colab-badge.svg\" alt=\"Open In Colab\"/></a>"
      ]
    },
    {
      "cell_type": "code",
      "metadata": {
        "id": "TAvIs93IwM43"
      },
      "source": [
        "from keras.datasets import mnist\n"
      ],
      "execution_count": null,
      "outputs": []
    },
    {
      "cell_type": "code",
      "metadata": {
        "colab": {
          "base_uri": "https://localhost:8080/"
        },
        "id": "o8UmsLHNwUE7",
        "outputId": "16538e30-d1e8-4b37-fa81-298f2110491d"
      },
      "source": [
        "(train_image,train_label),(test_image,test_label)=mnist.load_data()"
      ],
      "execution_count": null,
      "outputs": [
        {
          "output_type": "stream",
          "text": [
            "Downloading data from https://storage.googleapis.com/tensorflow/tf-keras-datasets/mnist.npz\n",
            "11493376/11490434 [==============================] - 0s 0us/step\n"
          ],
          "name": "stdout"
        }
      ]
    },
    {
      "cell_type": "code",
      "metadata": {
        "colab": {
          "base_uri": "https://localhost:8080/"
        },
        "id": "qUBoz_5Tw9ZA",
        "outputId": "8815f1be-99e5-45d8-f924-001edb208792"
      },
      "source": [
        "train_image.ndim"
      ],
      "execution_count": null,
      "outputs": [
        {
          "output_type": "execute_result",
          "data": {
            "text/plain": [
              "3"
            ]
          },
          "metadata": {
            "tags": []
          },
          "execution_count": 3
        }
      ]
    },
    {
      "cell_type": "code",
      "metadata": {
        "colab": {
          "base_uri": "https://localhost:8080/"
        },
        "id": "4EM3Xab5xCVu",
        "outputId": "4697b19b-79f5-41b9-d36d-69939b5aaf5e"
      },
      "source": [
        "train_image.shape"
      ],
      "execution_count": null,
      "outputs": [
        {
          "output_type": "execute_result",
          "data": {
            "text/plain": [
              "(60000, 28, 28)"
            ]
          },
          "metadata": {
            "tags": []
          },
          "execution_count": 4
        }
      ]
    },
    {
      "cell_type": "code",
      "metadata": {
        "colab": {
          "base_uri": "https://localhost:8080/",
          "height": 265
        },
        "id": "Se5MT2rQxGUV",
        "outputId": "d63e4116-3444-4c06-bf47-80eb5109f3ea"
      },
      "source": [
        "digit=train_image[4]\n",
        "import matplotlib.pyplot as plt\n",
        "plt.imshow(digit,cmap=plt.cm.binary)\n",
        "plt.show()"
      ],
      "execution_count": null,
      "outputs": [
        {
          "output_type": "display_data",
          "data": {
            "image/png": "[encoded data removed]",
            "text/plain": [
              "<Figure size 432x288 with 1 Axes>"
            ]
          },
          "metadata": {
            "tags": [],
            "needs_background": "light"
          }
        }
      ]
    },
    {
      "cell_type": "code",
      "metadata": {
        "colab": {
          "base_uri": "https://localhost:8080/",
          "height": 265
        },
        "id": "WvebXiUpxhR7",
        "outputId": "995419da-280d-46d9-de2c-04208728c21c"
      },
      "source": [
        "digit=train_image[5]\n",
        "plt.imshow(digit)\n",
        "plt.show()"
      ],
      "execution_count": null,
      "outputs": [
        {
          "output_type": "display_data",
          "data": {
            "image/png": "[encoded data removed]",
            "text/plain": [
              "<Figure size 432x288 with 1 Axes>"
            ]
          },
          "metadata": {
            "tags": [],
            "needs_background": "light"
          }
        }
      ]
    },
    {
      "cell_type": "markdown",
      "metadata": {
        "id": "vTo7QTBA71U9"
      },
      "source": [
        "TESNOR SLICING"
      ]
    },
    {
      "cell_type": "code",
      "metadata": {
        "colab": {
          "base_uri": "https://localhost:8080/"
        },
        "id": "BNZvh_Kkx4Hu",
        "outputId": "66320131-27b1-494f-b37e-c0b1ea8d1f32"
      },
      "source": [
        "my_slice=train_image[10:100,:,:]\n",
        "my_slice.shape"
      ],
      "execution_count": null,
      "outputs": [
        {
          "output_type": "execute_result",
          "data": {
            "text/plain": [
              "(90, 28, 28)"
            ]
          },
          "metadata": {
            "tags": []
          },
          "execution_count": 9
        }
      ]
    },
    {
      "cell_type": "code",
      "metadata": {
        "colab": {
          "base_uri": "https://localhost:8080/"
        },
        "id": "IKZfP3FC7Ayh",
        "outputId": "9ab1a2ff-3bd0-42a6-d1b9-d90ed9bea218"
      },
      "source": [
        "my_slice=train_image[10:1000,7:-7,7:-7]\n",
        "my_slice.shape"
      ],
      "execution_count": null,
      "outputs": [
        {
          "output_type": "execute_result",
          "data": {
            "text/plain": [
              "(990, 14, 14)"
            ]
          },
          "metadata": {
            "tags": []
          },
          "execution_count": 18
        }
      ]
    },
    {
      "cell_type": "markdown",
      "metadata": {
        "id": "pTS_k5YjFq9S"
      },
      "source": [
        "TENSOR RESHAPING"
      ]
    },
    {
      "cell_type": "code",
      "metadata": {
        "colab": {
          "base_uri": "https://localhost:8080/"
        },
        "id": "OLhGHwkr7K-C",
        "outputId": "a04dde08-609c-4c53-cbbf-a01f36c3a84a"
      },
      "source": [
        "import numpy as np\n",
        "x=np.array([[3,2,1,34],\n",
        "            [45,67,56,67],\n",
        "            [21,34,21,62]])\n",
        "x.shape"
      ],
      "execution_count": null,
      "outputs": [
        {
          "output_type": "execute_result",
          "data": {
            "text/plain": [
              "(3, 4)"
            ]
          },
          "metadata": {
            "tags": []
          },
          "execution_count": 19
        }
      ]
    },
    {
      "cell_type": "code",
      "metadata": {
        "colab": {
          "base_uri": "https://localhost:8080/"
        },
        "id": "0QX-JdTBF-9x",
        "outputId": "08701e84-f84f-4bec-9330-d4ef82de66e7"
      },
      "source": [
        "x=x.reshape(12,1)\n",
        "x"
      ],
      "execution_count": null,
      "outputs": [
        {
          "output_type": "execute_result",
          "data": {
            "text/plain": [
              "array([[ 3],\n",
              "       [ 2],\n",
              "       [ 1],\n",
              "       [34],\n",
              "       [45],\n",
              "       [67],\n",
              "       [56],\n",
              "       [67],\n",
              "       [21],\n",
              "       [34],\n",
              "       [21],\n",
              "       [62]])"
            ]
          },
          "metadata": {
            "tags": []
          },
          "execution_count": 21
        }
      ]
    },
    {
      "cell_type": "code",
      "metadata": {
        "colab": {
          "base_uri": "https://localhost:8080/"
        },
        "id": "yMzSYabNGO6S",
        "outputId": "84784acd-038f-41fd-d222-6028c4f2d354"
      },
      "source": [
        "x=x.reshape(4,3)\n",
        "x"
      ],
      "execution_count": null,
      "outputs": [
        {
          "output_type": "execute_result",
          "data": {
            "text/plain": [
              "array([[ 3,  2,  1],\n",
              "       [34, 45, 67],\n",
              "       [56, 67, 21],\n",
              "       [34, 21, 62]])"
            ]
          },
          "metadata": {
            "tags": []
          },
          "execution_count": 23
        }
      ]
    },
    {
      "cell_type": "code",
      "metadata": {
        "colab": {
          "base_uri": "https://localhost:8080/"
        },
        "id": "oHMjvbeaGDNV",
        "outputId": "8264c6db-c412-4031-dd3b-17aec8d28b66"
      },
      "source": [
        "x=np.transpose(x)\n",
        "x.shape"
      ],
      "execution_count": null,
      "outputs": [
        {
          "output_type": "execute_result",
          "data": {
            "text/plain": [
              "(3, 4)"
            ]
          },
          "metadata": {
            "tags": []
          },
          "execution_count": 24
        }
      ]
    },
    {
      "cell_type": "markdown",
      "metadata": {
        "id": "7ZfTHkPbBW8l"
      },
      "source": [
        "Classifying newswires:\n",
        "a multiclass classification example"
      ]
    },
    {
      "cell_type": "code",
      "metadata": {
        "id": "rN3DeYQjGMJW"
      },
      "source": [
        "from keras.datasets import reuters"
      ],
      "execution_count": null,
      "outputs": []
    },
    {
      "cell_type": "code",
      "metadata": {
        "colab": {
          "base_uri": "https://localhost:8080/"
        },
        "id": "kteZb3vFBgy4",
        "outputId": "74484cf6-fd1b-4551-db71-dd2603c78df7"
      },
      "source": [
        "(train_data,train_labels),(test_data,test_labels)=reuters.load_data(num_words=10000)"
      ],
      "execution_count": null,
      "outputs": [
        {
          "output_type": "stream",
          "text": [
            "Downloading data from https://storage.googleapis.com/tensorflow/tf-keras-datasets/reuters.npz\n",
            "2113536/2110848 [==============================] - 0s 0us/step\n"
          ],
          "name": "stdout"
        },
        {
          "output_type": "stream",
          "text": [
            "/usr/local/lib/python3.7/dist-packages/tensorflow/python/keras/datasets/reuters.py:148: VisibleDeprecationWarning: Creating an ndarray from ragged nested sequences (which is a list-or-tuple of lists-or-tuples-or ndarrays with different lengths or shapes) is deprecated. If you meant to do this, you must specify 'dtype=object' when creating the ndarray\n",
            "  x_train, y_train = np.array(xs[:idx]), np.array(labels[:idx])\n",
            "/usr/local/lib/python3.7/dist-packages/tensorflow/python/keras/datasets/reuters.py:149: VisibleDeprecationWarning: Creating an ndarray from ragged nested sequences (which is a list-or-tuple of lists-or-tuples-or ndarrays with different lengths or shapes) is deprecated. If you meant to do this, you must specify 'dtype=object' when creating the ndarray\n",
            "  x_test, y_test = np.array(xs[idx:]), np.array(labels[idx:])\n"
          ],
          "name": "stderr"
        }
      ]
    },
    {
      "cell_type": "code",
      "metadata": {
        "colab": {
          "base_uri": "https://localhost:8080/"
        },
        "id": "3obHCiSyDrsq",
        "outputId": "b3bbef53-7fba-4758-c963-a8f16da6f8c1"
      },
      "source": [
        "len(train_data)"
      ],
      "execution_count": null,
      "outputs": [
        {
          "output_type": "execute_result",
          "data": {
            "text/plain": [
              "8982"
            ]
          },
          "metadata": {
            "tags": []
          },
          "execution_count": 3
        }
      ]
    },
    {
      "cell_type": "code",
      "metadata": {
        "colab": {
          "base_uri": "https://localhost:8080/"
        },
        "id": "tSrC9_IJD-iK",
        "outputId": "51b707d3-ff85-4241-c835-7733875bc32d"
      },
      "source": [
        "len(test_data)"
      ],
      "execution_count": null,
      "outputs": [
        {
          "output_type": "execute_result",
          "data": {
            "text/plain": [
              "2246"
            ]
          },
          "metadata": {
            "tags": []
          },
          "execution_count": 4
        }
      ]
    },
    {
      "cell_type": "code",
      "metadata": {
        "colab": {
          "base_uri": "https://localhost:8080/"
        },
        "id": "2WWhU6VkEAbp",
        "outputId": "2293d1f8-3456-4769-da8e-887d057e54a9"
      },
      "source": [
        "train_data[10]"
      ],
      "execution_count": null,
      "outputs": [
        {
          "output_type": "execute_result",
          "data": {
            "text/plain": [
              "[1,\n",
              " 245,\n",
              " 273,\n",
              " 207,\n",
              " 156,\n",
              " 53,\n",
              " 74,\n",
              " 160,\n",
              " 26,\n",
              " 14,\n",
              " 46,\n",
              " 296,\n",
              " 26,\n",
              " 39,\n",
              " 74,\n",
              " 2979,\n",
              " 3554,\n",
              " 14,\n",
              " 46,\n",
              " 4689,\n",
              " 4329,\n",
              " 86,\n",
              " 61,\n",
              " 3499,\n",
              " 4795,\n",
              " 14,\n",
              " 61,\n",
              " 451,\n",
              " 4329,\n",
              " 17,\n",
              " 12]"
            ]
          },
          "metadata": {
            "tags": []
          },
          "execution_count": 5
        }
      ]
    },
    {
      "cell_type": "code",
      "metadata": {
        "colab": {
          "base_uri": "https://localhost:8080/"
        },
        "id": "W2RIUjVOE91I",
        "outputId": "483e7a39-9859-4e6a-eede-96815454cb39"
      },
      "source": [
        "train_labels[10]"
      ],
      "execution_count": null,
      "outputs": [
        {
          "output_type": "execute_result",
          "data": {
            "text/plain": [
              "3"
            ]
          },
          "metadata": {
            "tags": []
          },
          "execution_count": 9
        }
      ]
    },
    {
      "cell_type": "markdown",
      "metadata": {
        "id": "ApD6skFSEHyw"
      },
      "source": [
        "Decoding newswires back to text"
      ]
    },
    {
      "cell_type": "code",
      "metadata": {
        "colab": {
          "base_uri": "https://localhost:8080/"
        },
        "id": "e_qfrRVEECxL",
        "outputId": "fcdd33e6-da6e-4eab-9688-290e2d81bde1"
      },
      "source": [
        "word_index=reuters.get_word_index()\n",
        "reverse_word_index=dict([(value,key) for (key,value) in word_index.items()])\n",
        "decoded_news= \" \".join(reverse_word_index.get(i-3,'?') for i in train_data[0])"
      ],
      "execution_count": null,
      "outputs": [
        {
          "output_type": "stream",
          "text": [
            "Downloading data from https://storage.googleapis.com/tensorflow/tf-keras-datasets/reuters_word_index.json\n",
            "557056/550378 [==============================] - 0s 0us/step\n"
          ],
          "name": "stdout"
        }
      ]
    },
    {
      "cell_type": "code",
      "metadata": {
        "colab": {
          "base_uri": "https://localhost:8080/"
        },
        "id": "OwPEv6tlEr10",
        "outputId": "42c9f036-e2f6-472d-b9cb-8874783c98f5"
      },
      "source": [
        "train_labels[10]"
      ],
      "execution_count": null,
      "outputs": [
        {
          "output_type": "execute_result",
          "data": {
            "text/plain": [
              "3"
            ]
          },
          "metadata": {
            "tags": []
          },
          "execution_count": 8
        }
      ]
    },
    {
      "cell_type": "markdown",
      "metadata": {
        "id": "1I3udG1SFC43"
      },
      "source": [
        "encoding data"
      ]
    },
    {
      "cell_type": "code",
      "metadata": {
        "id": "pX5PCfILE2lg"
      },
      "source": [
        "import numpy as np\n"
      ],
      "execution_count": null,
      "outputs": []
    },
    {
      "cell_type": "code",
      "metadata": {
        "id": "esD9tcaEFJc8"
      },
      "source": [
        "def vectorize_sequences(sequences,dimension=10000):\n",
        "  results=np.zeros((len(sequences),dimension))\n",
        "  for i,sequence in enumerate(sequences):\n",
        "    results[i,sequence]=1\n",
        "  return results"
      ],
      "execution_count": null,
      "outputs": []
    },
    {
      "cell_type": "code",
      "metadata": {
        "id": "mAqnr0_fGIzx"
      },
      "source": [
        "x_train=vectorize_sequences(train_data)\n",
        "x_test=vectorize_sequences(test_data)"
      ],
      "execution_count": null,
      "outputs": []
    },
    {
      "cell_type": "code",
      "metadata": {
        "id": "CmP9G4pUHb0p"
      },
      "source": [
        "def one_hot_coding(labels,dimension=46):\n",
        "  results=np.zeros((len(labels),dimension))\n",
        "  for i,label in enumerate(labels):\n",
        "    results[i,label]=1\n",
        "  return results"
      ],
      "execution_count": null,
      "outputs": []
    },
    {
      "cell_type": "code",
      "metadata": {
        "id": "qvmObtoTH-OI"
      },
      "source": [
        "one_hot_coding_train_label=one_hot_coding(train_labels)\n",
        "one_hot_coding_test_label=one_hot_coding(test_labels)"
      ],
      "execution_count": null,
      "outputs": []
    },
    {
      "cell_type": "code",
      "metadata": {
        "id": "KExRARFGISCS"
      },
      "source": [
        "from keras.utils.np_utils import to_categorical\n",
        "one_hot_coding_train_label= to_categorical(train_labels)\n",
        "one_hot_coding_test_label= to_categorical(test_labels)"
      ],
      "execution_count": null,
      "outputs": []
    },
    {
      "cell_type": "code",
      "metadata": {
        "id": "8THQj7hLGrfv"
      },
      "source": [
        "from keras import models\n",
        "from keras import layers"
      ],
      "execution_count": null,
      "outputs": []
    },
    {
      "cell_type": "code",
      "metadata": {
        "id": "m5D_d1DlG2pP"
      },
      "source": [
        "model= models.Sequential()\n",
        "model.add(layers.Dense(64,activation='relu',input_shape=(10000,)))\n",
        "model.add(layers.Dense(64,activation='relu'))\n",
        "model.add(layers.Dense(46,activation='softmax'))"
      ],
      "execution_count": null,
      "outputs": []
    },
    {
      "cell_type": "markdown",
      "metadata": {
        "id": "kZZn3c-eJbrh"
      },
      "source": [
        "compiling the model"
      ]
    },
    {
      "cell_type": "code",
      "metadata": {
        "id": "WoAm3ZYjJQ-1"
      },
      "source": [
        "model.compile(optimizer='rmsprop',\n",
        "              loss='categorical_crossentropy',\n",
        "              metrics=['accuracy'])"
      ],
      "execution_count": null,
      "outputs": []
    },
    {
      "cell_type": "markdown",
      "metadata": {
        "id": "HAHDg2RwJ166"
      },
      "source": [
        "setting a validation set"
      ]
    },
    {
      "cell_type": "code",
      "metadata": {
        "id": "I-atontqJtCC"
      },
      "source": [
        "x_val=x_train[:1000]\n",
        "partial_x_train=x_train[1000:]\n",
        "y_val=one_hot_coding_train_label[:1000]\n",
        "partial_y_val=one_hot_coding_train_label[1000:]"
      ],
      "execution_count": null,
      "outputs": []
    },
    {
      "cell_type": "markdown",
      "metadata": {
        "id": "sQ_7iJpHKbPJ"
      },
      "source": [
        "Training the model"
      ]
    },
    {
      "cell_type": "code",
      "metadata": {
        "colab": {
          "base_uri": "https://localhost:8080/"
        },
        "id": "67NFz_GeKaPu",
        "outputId": "cdac4ded-eb1f-476a-bb15-8370ea2166e2"
      },
      "source": [
        "history=model.fit(partial_x_train,partial_y_val,epochs=20,batch_size=512,validation_data=(x_val,y_val))"
      ],
      "execution_count": null,
      "outputs": [
        {
          "output_type": "stream",
          "text": [
            "Epoch 1/20\n",
            "16/16 [==============================] - 2s 77ms/step - loss: 3.1094 - accuracy: 0.3829 - val_loss: 1.7149 - val_accuracy: 0.6460\n",
            "Epoch 2/20\n",
            "16/16 [==============================] - 1s 49ms/step - loss: 1.4956 - accuracy: 0.6939 - val_loss: 1.2941 - val_accuracy: 0.7120\n",
            "Epoch 3/20\n",
            "16/16 [==============================] - 1s 48ms/step - loss: 1.0707 - accuracy: 0.7750 - val_loss: 1.1281 - val_accuracy: 0.7550\n",
            "Epoch 4/20\n",
            "16/16 [==============================] - 1s 49ms/step - loss: 0.8423 - accuracy: 0.8302 - val_loss: 1.0394 - val_accuracy: 0.7770\n",
            "Epoch 5/20\n",
            "16/16 [==============================] - 1s 49ms/step - loss: 0.6692 - accuracy: 0.8649 - val_loss: 0.9771 - val_accuracy: 0.8090\n",
            "Epoch 6/20\n",
            "16/16 [==============================] - 1s 49ms/step - loss: 0.5399 - accuracy: 0.8906 - val_loss: 0.9397 - val_accuracy: 0.8170\n",
            "Epoch 7/20\n",
            "16/16 [==============================] - 1s 48ms/step - loss: 0.4162 - accuracy: 0.9183 - val_loss: 0.9325 - val_accuracy: 0.8150\n",
            "Epoch 8/20\n",
            "16/16 [==============================] - 1s 49ms/step - loss: 0.3378 - accuracy: 0.9303 - val_loss: 0.9208 - val_accuracy: 0.8140\n",
            "Epoch 9/20\n",
            "16/16 [==============================] - 1s 48ms/step - loss: 0.2993 - accuracy: 0.9359 - val_loss: 0.9060 - val_accuracy: 0.8150\n",
            "Epoch 10/20\n",
            "16/16 [==============================] - 1s 50ms/step - loss: 0.2266 - accuracy: 0.9518 - val_loss: 0.9313 - val_accuracy: 0.8150\n",
            "Epoch 11/20\n",
            "16/16 [==============================] - 1s 49ms/step - loss: 0.1999 - accuracy: 0.9500 - val_loss: 0.9869 - val_accuracy: 0.8020\n",
            "Epoch 12/20\n",
            "16/16 [==============================] - 1s 49ms/step - loss: 0.1843 - accuracy: 0.9535 - val_loss: 0.9610 - val_accuracy: 0.8180\n",
            "Epoch 13/20\n",
            "16/16 [==============================] - 1s 49ms/step - loss: 0.1491 - accuracy: 0.9600 - val_loss: 0.9477 - val_accuracy: 0.8230\n",
            "Epoch 14/20\n",
            "16/16 [==============================] - 1s 48ms/step - loss: 0.1433 - accuracy: 0.9617 - val_loss: 1.0326 - val_accuracy: 0.8030\n",
            "Epoch 15/20\n",
            "16/16 [==============================] - 1s 49ms/step - loss: 0.1277 - accuracy: 0.9611 - val_loss: 0.9899 - val_accuracy: 0.8260\n",
            "Epoch 16/20\n",
            "16/16 [==============================] - 1s 48ms/step - loss: 0.1231 - accuracy: 0.9631 - val_loss: 1.0244 - val_accuracy: 0.8170\n",
            "Epoch 17/20\n",
            "16/16 [==============================] - 1s 49ms/step - loss: 0.1161 - accuracy: 0.9611 - val_loss: 1.0877 - val_accuracy: 0.8040\n",
            "Epoch 18/20\n",
            "16/16 [==============================] - 1s 48ms/step - loss: 0.1073 - accuracy: 0.9639 - val_loss: 1.1005 - val_accuracy: 0.8070\n",
            "Epoch 19/20\n",
            "16/16 [==============================] - 1s 49ms/step - loss: 0.1081 - accuracy: 0.9611 - val_loss: 1.0606 - val_accuracy: 0.8180\n",
            "Epoch 20/20\n",
            "16/16 [==============================] - 1s 47ms/step - loss: 0.0998 - accuracy: 0.9634 - val_loss: 1.0901 - val_accuracy: 0.8130\n"
          ],
          "name": "stdout"
        }
      ]
    },
    {
      "cell_type": "code",
      "metadata": {
        "colab": {
          "base_uri": "https://localhost:8080/"
        },
        "id": "T2GI2fWCNa5s",
        "outputId": "112e0ada-fa23-44be-a45d-165466626393"
      },
      "source": [
        "history_dict=history.history\n",
        "history_dict.keys()"
      ],
      "execution_count": null,
      "outputs": [
        {
          "output_type": "execute_result",
          "data": {
            "text/plain": [
              "dict_keys(['loss', 'accuracy', 'val_loss', 'val_accuracy'])"
            ]
          },
          "metadata": {
            "tags": []
          },
          "execution_count": 29
        }
      ]
    },
    {
      "cell_type": "markdown",
      "metadata": {
        "id": "mH_vvresLQoS"
      },
      "source": [
        "Plotting training and validation loss"
      ]
    },
    {
      "cell_type": "code",
      "metadata": {
        "colab": {
          "base_uri": "https://localhost:8080/",
          "height": 295
        },
        "id": "rRWgmRt1Kx9l",
        "outputId": "ccb91d04-4cbf-468c-9e40-8b78da0f5913"
      },
      "source": [
        "import matplotlib.pyplot as plt\n",
        "\n",
        "loss_value=history_dict['loss']\n",
        "val_loss_value=history_dict['val_loss']\n",
        "\n",
        "epochs=range(1,len(loss_value)+1)\n",
        "\n",
        "plt.plot(epochs,loss_value,\"bo\",label='Training loss')\n",
        "plt.plot(epochs,val_loss_value,\"b\",label='Validation loss')\n",
        "plt.title('Training and Validation loss')\n",
        "plt.xlabel(\"epochs\")\n",
        "plt.ylabel(\"loss\")\n",
        "plt.legend()\n",
        "plt.show()"
      ],
      "execution_count": null,
      "outputs": [
        {
          "output_type": "display_data",
          "data": {
            "image/png": "[encoded data removed]",
            "text/plain": [
              "<Figure size 432x288 with 1 Axes>"
            ]
          },
          "metadata": {
            "tags": [],
            "needs_background": "light"
          }
        }
      ]
    },
    {
      "cell_type": "markdown",
      "metadata": {
        "id": "kgurhFCxM23I"
      },
      "source": [
        "Plotting Training and Validation Accuracy"
      ]
    },
    {
      "cell_type": "code",
      "metadata": {
        "colab": {
          "base_uri": "https://localhost:8080/",
          "height": 295
        },
        "id": "LA5NBKmpLcMC",
        "outputId": "37bc736a-3e74-450e-d6a5-417e731430d7"
      },
      "source": [
        "acc_values=history_dict['accuracy']\n",
        "val_acc_values=history_dict['val_accuracy']\n",
        "plt.plot(epochs,acc_values,'bo',label='Training Accuracy')\n",
        "plt.plot(epochs,val_acc_values,\"b\",label=\"Validation Accuracy\")\n",
        "plt.xlabel(\"epochs\")\n",
        "plt.ylabel('Accuracy')\n",
        "plt.title(\"Training and validation Accuracy\")\n",
        "plt.legend()\n",
        "plt.show()\n"
      ],
      "execution_count": null,
      "outputs": [
        {
          "output_type": "display_data",
          "data": {
            "image/png": "[encoded data removed]",
            "text/plain": [
              "<Figure size 432x288 with 1 Axes>"
            ]
          },
          "metadata": {
            "tags": [],
            "needs_background": "light"
          }
        }
      ]
    },
    {
      "cell_type": "markdown",
      "metadata": {
        "id": "HG9-IOWlOsRI"
      },
      "source": [
        "The network begins to overfit after nine epochs. Let’s train a new network from\n",
        "scratch for nine epochs and then evaluate it on the test set."
      ]
    },
    {
      "cell_type": "markdown",
      "metadata": {
        "id": "boasqIkKOuSR"
      },
      "source": [
        "Retraining the model again"
      ]
    },
    {
      "cell_type": "code",
      "metadata": {
        "colab": {
          "base_uri": "https://localhost:8080/"
        },
        "id": "suw7Tbi4OROo",
        "outputId": "744464aa-4f7e-4254-91d9-94316186dfe8"
      },
      "source": [
        "model.fit(partial_x_train,partial_y_val,epochs=9,batch_size=512,validation_data=(x_val,y_val))\n",
        "result=model.evaluate(x_test,one_hot_coding_test_label)"
      ],
      "execution_count": null,
      "outputs": [
        {
          "output_type": "stream",
          "text": [
            "Epoch 1/9\n",
            "16/16 [==============================] - 1s 67ms/step - loss: 0.0929 - accuracy: 0.9583 - val_loss: 1.3103 - val_accuracy: 0.7900\n",
            "Epoch 2/9\n",
            "16/16 [==============================] - 1s 61ms/step - loss: 0.0979 - accuracy: 0.9568 - val_loss: 1.3263 - val_accuracy: 0.7920\n",
            "Epoch 3/9\n",
            "16/16 [==============================] - 1s 61ms/step - loss: 0.0930 - accuracy: 0.9587 - val_loss: 1.2325 - val_accuracy: 0.8070\n",
            "Epoch 4/9\n",
            "16/16 [==============================] - 1s 62ms/step - loss: 0.0925 - accuracy: 0.9593 - val_loss: 1.2771 - val_accuracy: 0.8050\n",
            "Epoch 5/9\n",
            "16/16 [==============================] - 1s 65ms/step - loss: 0.0913 - accuracy: 0.9575 - val_loss: 1.2895 - val_accuracy: 0.8060\n",
            "Epoch 6/9\n",
            "16/16 [==============================] - 1s 62ms/step - loss: 0.0913 - accuracy: 0.9582 - val_loss: 1.2631 - val_accuracy: 0.8050\n",
            "Epoch 7/9\n",
            "16/16 [==============================] - 1s 63ms/step - loss: 0.0905 - accuracy: 0.9599 - val_loss: 1.2663 - val_accuracy: 0.8080\n",
            "Epoch 8/9\n",
            "16/16 [==============================] - 1s 63ms/step - loss: 0.0908 - accuracy: 0.9570 - val_loss: 1.2902 - val_accuracy: 0.8080\n",
            "Epoch 9/9\n",
            "16/16 [==============================] - 1s 62ms/step - loss: 0.0899 - accuracy: 0.9583 - val_loss: 1.3210 - val_accuracy: 0.8020\n",
            "71/71 [==============================] - 0s 4ms/step - loss: 1.5019 - accuracy: 0.7805\n"
          ],
          "name": "stdout"
        }
      ]
    },
    {
      "cell_type": "code",
      "metadata": {
        "colab": {
          "base_uri": "https://localhost:8080/"
        },
        "id": "mK4kWJwePJyi",
        "outputId": "eb98fb86-e894-46e2-eed5-7ffa31fb57f3"
      },
      "source": [
        "result"
      ],
      "execution_count": null,
      "outputs": [
        {
          "output_type": "execute_result",
          "data": {
            "text/plain": [
              "[1.5019484758377075, 0.7804986834526062]"
            ]
          },
          "metadata": {
            "tags": []
          },
          "execution_count": 33
        }
      ]
    },
    {
      "cell_type": "markdown",
      "metadata": {
        "id": "QkKA4FIVP0gY"
      },
      "source": [
        "This approach reaches an accuracy of ~80%"
      ]
    },
    {
      "cell_type": "code",
      "metadata": {
        "colab": {
          "base_uri": "https://localhost:8080/"
        },
        "id": "rjliAK7UPdeo",
        "outputId": "df0906ac-7b24-4797-9164-967e4c0f6d2c"
      },
      "source": [
        "predictions=model.predict(x_test)\n",
        "predictions"
      ],
      "execution_count": null,
      "outputs": [
        {
          "output_type": "execute_result",
          "data": {
            "text/plain": [
              "array([[3.09657850e-07, 1.23687255e-06, 4.01401543e-08, ...,\n",
              "        8.25050805e-10, 1.81968732e-14, 7.20746796e-11],\n",
              "       [3.14582826e-06, 3.95128503e-02, 5.87470413e-06, ...,\n",
              "        4.12168717e-08, 8.74110155e-16, 8.55991006e-01],\n",
              "       [3.28053231e-03, 9.59912837e-01, 8.07998440e-05, ...,\n",
              "        8.50394208e-05, 3.32509775e-09, 4.65740050e-06],\n",
              "       ...,\n",
              "       [9.59532329e-08, 4.99012572e-07, 3.93580279e-08, ...,\n",
              "        4.27758167e-08, 2.72824940e-11, 1.64911140e-11],\n",
              "       [1.38886673e-02, 1.22381277e-01, 2.82521010e-03, ...,\n",
              "        2.17651657e-04, 2.40525605e-06, 1.19595325e-05],\n",
              "       [3.14428726e-05, 9.91186082e-01, 1.02635749e-04, ...,\n",
              "        4.74609533e-06, 1.39127529e-10, 8.68517844e-08]], dtype=float32)"
            ]
          },
          "metadata": {
            "tags": []
          },
          "execution_count": 35
        }
      ]
    },
    {
      "cell_type": "code",
      "metadata": {
        "colab": {
          "base_uri": "https://localhost:8080/"
        },
        "id": "fdJ0IdPKPiYc",
        "outputId": "b0703e22-d85e-4fdc-a224-e9cda3af46f0"
      },
      "source": [
        "predictions[0].shape"
      ],
      "execution_count": null,
      "outputs": [
        {
          "output_type": "execute_result",
          "data": {
            "text/plain": [
              "(46,)"
            ]
          },
          "metadata": {
            "tags": []
          },
          "execution_count": 36
        }
      ]
    },
    {
      "cell_type": "code",
      "metadata": {
        "colab": {
          "base_uri": "https://localhost:8080/"
        },
        "id": "ab05lWuSQEoS",
        "outputId": "4abce2aa-d4e1-4c66-e9cd-f77739889406"
      },
      "source": [
        "np.argmax(predictions[0])"
      ],
      "execution_count": null,
      "outputs": [
        {
          "output_type": "execute_result",
          "data": {
            "text/plain": [
              "3"
            ]
          },
          "metadata": {
            "tags": []
          },
          "execution_count": 37
        }
      ]
    },
    {
      "cell_type": "code",
      "metadata": {
        "colab": {
          "base_uri": "https://localhost:8080/"
        },
        "id": "-6SQqZcrQIhI",
        "outputId": "a11ce88f-1a49-446a-aeaf-b7ab075961ae"
      },
      "source": [
        "np.sum(predictions[0])"
      ],
      "execution_count": null,
      "outputs": [
        {
          "output_type": "execute_result",
          "data": {
            "text/plain": [
              "1.0000001"
            ]
          },
          "metadata": {
            "tags": []
          },
          "execution_count": 38
        }
      ]
    },
    {
      "cell_type": "markdown",
      "metadata": {
        "id": "07dFTb6JYCMU"
      },
      "source": [
        "# Boston Housing Price dataset"
      ]
    },
    {
      "cell_type": "code",
      "metadata": {
        "id": "Swvyk408QOns"
      },
      "source": [
        "from keras.datasets import boston_housing"
      ],
      "execution_count": null,
      "outputs": []
    },
    {
      "cell_type": "code",
      "metadata": {
        "colab": {
          "base_uri": "https://localhost:8080/"
        },
        "id": "qbiGnXfYYTZ-",
        "outputId": "364aee86-f0db-4962-ea47-7ec35d403053"
      },
      "source": [
        "(train_data,train_target),(test_data,test_target)=boston_housing.load_data()\n",
        "train_data.shape"
      ],
      "execution_count": null,
      "outputs": [
        {
          "output_type": "stream",
          "text": [
            "Downloading data from https://storage.googleapis.com/tensorflow/tf-keras-datasets/boston_housing.npz\n",
            "57344/57026 [==============================] - 0s 0us/step\n"
          ],
          "name": "stdout"
        },
        {
          "output_type": "execute_result",
          "data": {
            "text/plain": [
              "(404, 13)"
            ]
          },
          "metadata": {
            "tags": []
          },
          "execution_count": 40
        }
      ]
    },
    {
      "cell_type": "code",
      "metadata": {
        "colab": {
          "base_uri": "https://localhost:8080/"
        },
        "id": "pR-207YAYmzV",
        "outputId": "54e77bef-621b-4765-8c62-1f5dbc18f480"
      },
      "source": [
        "test_data.shape"
      ],
      "execution_count": null,
      "outputs": [
        {
          "output_type": "execute_result",
          "data": {
            "text/plain": [
              "(102, 13)"
            ]
          },
          "metadata": {
            "tags": []
          },
          "execution_count": 41
        }
      ]
    },
    {
      "cell_type": "code",
      "metadata": {
        "colab": {
          "base_uri": "https://localhost:8080/"
        },
        "id": "eNwXk-F_ZySP",
        "outputId": "84383177-a957-4091-93c5-1030f68aa618"
      },
      "source": [
        "train_data.shape[1]"
      ],
      "execution_count": null,
      "outputs": [
        {
          "output_type": "execute_result",
          "data": {
            "text/plain": [
              "13"
            ]
          },
          "metadata": {
            "tags": []
          },
          "execution_count": 44
        }
      ]
    },
    {
      "cell_type": "markdown",
      "metadata": {
        "id": "dMi-mCKwY_o8"
      },
      "source": [
        "Normalizing the data"
      ]
    },
    {
      "cell_type": "code",
      "metadata": {
        "id": "PsQtavzEY3x-"
      },
      "source": [
        "mean=train_data.mean(axis=0)\n",
        "train_data -=mean\n",
        "std=train_data.std(axis=0)\n",
        "train_data/=std\n"
      ],
      "execution_count": null,
      "outputs": []
    },
    {
      "cell_type": "code",
      "metadata": {
        "id": "p2XSN6voZepn"
      },
      "source": [
        "test_data -=mean\n",
        "test_data /=std"
      ],
      "execution_count": null,
      "outputs": []
    },
    {
      "cell_type": "code",
      "metadata": {
        "colab": {
          "base_uri": "https://localhost:8080/"
        },
        "id": "MIu1VWozZm9X",
        "outputId": "647f69be-91a3-4fd5-d459-9b7035550993"
      },
      "source": [
        "test_data"
      ],
      "execution_count": null,
      "outputs": [
        {
          "output_type": "execute_result",
          "data": {
            "text/plain": [
              "array([[ 1.55369355, -0.48361547,  1.0283258 , ...,  0.78447637,\n",
              "        -3.48459553,  2.25092074],\n",
              "       [-0.39242675, -0.48361547, -0.16087773, ..., -0.30759583,\n",
              "         0.42733126,  0.47880119],\n",
              "       [-0.39982927, -0.48361547, -0.86940196, ...,  0.78447637,\n",
              "         0.44807713, -0.41415936],\n",
              "       ...,\n",
              "       [-0.20709507, -0.48361547,  1.24588095, ..., -1.71818909,\n",
              "         0.37051949, -1.49344089],\n",
              "       [-0.36698601, -0.48361547, -0.72093526, ..., -0.48960787,\n",
              "         0.39275481, -0.41829982],\n",
              "       [-0.0889679 , -0.48361547,  1.24588095, ..., -1.71818909,\n",
              "        -1.21946544, -0.40449827]])"
            ]
          },
          "metadata": {
            "tags": []
          },
          "execution_count": 45
        }
      ]
    },
    {
      "cell_type": "markdown",
      "metadata": {
        "id": "zWW1ri6hZ5Wl"
      },
      "source": [
        "Model definition\n"
      ]
    },
    {
      "cell_type": "code",
      "metadata": {
        "id": "tQvSqbjEZ3Vk"
      },
      "source": [
        "from keras import models\n",
        "from keras import layers\n",
        "def build_model():\n",
        "  model=models.Sequential()\n",
        "  model.add(layers.Dense(64,activation='relu',input_shape=(train_data.shape[1],)))\n",
        "  model.add(layers.Dense(64,activation='relu'))\n",
        "  model.add(layers.Dense(1))\n",
        "  model.compile(optimizer='rmsprop',loss='mse',metrics='mae')\n",
        "  return model"
      ],
      "execution_count": null,
      "outputs": []
    },
    {
      "cell_type": "markdown",
      "metadata": {
        "id": "z1v7CB-WlyCy"
      },
      "source": [
        "k-fold validation "
      ]
    },
    {
      "cell_type": "code",
      "metadata": {
        "id": "O9EnFFKnayzJ"
      },
      "source": [
        "import numpy as np\n"
      ],
      "execution_count": null,
      "outputs": []
    },
    {
      "cell_type": "code",
      "metadata": {
        "id": "vR9eTrKxbDLt"
      },
      "source": [
        "k=4\n",
        "num_val_scores=len(train_data)//k\n",
        "num_epochs=100\n",
        "all_scores=[]"
      ],
      "execution_count": null,
      "outputs": []
    },
    {
      "cell_type": "code",
      "metadata": {
        "colab": {
          "base_uri": "https://localhost:8080/"
        },
        "id": "o9S_wN4cmBzT",
        "outputId": "1d0e01d3-69ac-4feb-e993-2a225976f4c6"
      },
      "source": [
        "for i in range(k):\n",
        "  print(\"processing fold #\",i)\n",
        "  val_data=train_data[i*num_val_scores:(i+1)*num_val_scores]\n",
        "  val_targets=train_target[i*num_val_scores:(i+1)*num_val_scores]\n",
        "\n",
        "  partial_train_data=np.concatenate([train_data[:i*num_val_scores],train_data[(i+1)*num_val_scores:]],axis=0)\n",
        "  partial_train_targets=np.concatenate([train_target[:i*num_val_scores],train_target[(i+1)*num_val_scores:]],axis=0)\n",
        "  model=build_model()\n",
        "  model.fit(partial_train_data,partial_train_targets,epochs=num_epochs,batch_size=1,verbose=0)\n",
        "\n",
        "  val_mse,val_mae=model.evaluate(val_data,val_targets,verbose=0)\n",
        "  all_scores.append(val_mae)"
      ],
      "execution_count": null,
      "outputs": [
        {
          "output_type": "stream",
          "text": [
            "processing fold # 0\n",
            "processing fold # 1\n",
            "processing fold # 2\n",
            "processing fold # 3\n"
          ],
          "name": "stdout"
        }
      ]
    },
    {
      "cell_type": "code",
      "metadata": {
        "colab": {
          "base_uri": "https://localhost:8080/"
        },
        "id": "_JPTMXOQn2Am",
        "outputId": "e8f9a8fc-e479-4822-90ac-6048b98ff6a6"
      },
      "source": [
        "all_scores"
      ],
      "execution_count": null,
      "outputs": [
        {
          "output_type": "execute_result",
          "data": {
            "text/plain": [
              "[1.9356105327606201, 2.4411163330078125, 2.733860492706299, 2.279463291168213]"
            ]
          },
          "metadata": {
            "tags": []
          },
          "execution_count": 54
        }
      ]
    },
    {
      "cell_type": "code",
      "metadata": {
        "colab": {
          "base_uri": "https://localhost:8080/"
        },
        "id": "xjYi-8apoVb4",
        "outputId": "c23decc0-1a1c-4b8a-d677-e3012281adb9"
      },
      "source": [
        "np.mean(all_scores)"
      ],
      "execution_count": null,
      "outputs": [
        {
          "output_type": "execute_result",
          "data": {
            "text/plain": [
              "2.347512662410736"
            ]
          },
          "metadata": {
            "tags": []
          },
          "execution_count": 55
        }
      ]
    },
    {
      "cell_type": "markdown",
      "metadata": {
        "id": "I-ladywPoadS"
      },
      "source": [
        "Saving validation logs at each fold"
      ]
    },
    {
      "cell_type": "code",
      "metadata": {
        "colab": {
          "base_uri": "https://localhost:8080/"
        },
        "id": "eAO0BiyZoXmM",
        "outputId": "1ac26edc-8986-4e85-c684-e18e9c920059"
      },
      "source": [
        "num_epochs=500\n",
        "all_mae_histories=[]\n",
        "\n",
        "for i in range(k):\n",
        "  print(\"processing fold #\",i)\n",
        "  val_data=train_data[i*num_val_scores:(i+1)*num_val_scores]\n",
        "  val_targets=train_target[i*num_val_scores:(i+1)*num_val_scores]\n",
        "\n",
        "  partial_train_data=np.concatenate([train_data[:i*num_val_scores],train_data[(i+1)*num_val_scores:]],axis=0)\n",
        "  partial_train_targets=np.concatenate([train_target[:i*num_val_scores],train_target[(i+1)*num_val_scores:]],axis=0)\n",
        "  model=build_model()\n",
        "  history=model.fit(partial_train_data,partial_train_targets,validation_data=(val_data,val_targets),epochs=num_epochs,batch_size=1,verbose=0)\n",
        "  history_dict=history.history\n",
        "  history_dict.keys()\n",
        "  mae_history=history_dict['val_mae']\n",
        "  all_mae_histories.append(mae_history)\n"
      ],
      "execution_count": null,
      "outputs": [
        {
          "output_type": "stream",
          "text": [
            "processing fold # 0\n",
            "processing fold # 1\n",
            "processing fold # 2\n",
            "processing fold # 3\n"
          ],
          "name": "stdout"
        }
      ]
    },
    {
      "cell_type": "code",
      "metadata": {
        "colab": {
          "base_uri": "https://localhost:8080/"
        },
        "id": "7MImwq8ZpJei",
        "outputId": "816a58ed-c44a-43e9-af5a-b105c4d3516f"
      },
      "source": [
        "average_mae_history=[np.mean([x[i] for x in all_mae_histories]) for i in range(num_epochs)]\n",
        "average_mae_history"
      ],
      "execution_count": null,
      "outputs": [
        {
          "output_type": "execute_result",
          "data": {
            "text/plain": [
              "[4.280164182186127,\n",
              " 3.1927722692489624,\n",
              " 3.121696412563324,\n",
              " 2.8267722725868225,\n",
              " 2.6911107301712036,\n",
              " 2.57515811920166,\n",
              " 2.588045358657837,\n",
              " 2.506911337375641,\n",
              " 2.4572519063949585,\n",
              " 2.498741328716278,\n",
              " 2.5304121375083923,\n",
              " 2.5518710613250732,\n",
              " 2.7210700511932373,\n",
              " 2.425392210483551,\n",
              " 2.4291886687278748,\n",
              " 2.4122796654701233,\n",
              " 2.503518968820572,\n",
              " 2.5361186861991882,\n",
              " 2.373350501060486,\n",
              " 2.415020704269409,\n",
              " 2.397537112236023,\n",
              " 2.4404075145721436,\n",
              " 2.4262571334838867,\n",
              " 2.5089573562145233,\n",
              " 2.315752327442169,\n",
              " 2.525688111782074,\n",
              " 2.3317922949790955,\n",
              " 2.667008340358734,\n",
              " 2.3778809905052185,\n",
              " 2.4323359727859497,\n",
              " 2.3351319432258606,\n",
              " 2.641908586025238,\n",
              " 2.373665004968643,\n",
              " 2.323085069656372,\n",
              " 2.315745323896408,\n",
              " 2.426032781600952,\n",
              " 2.386130839586258,\n",
              " 2.319049447774887,\n",
              " 2.3842094242572784,\n",
              " 2.2662493288517,\n",
              " 2.299059718847275,\n",
              " 2.3776634335517883,\n",
              " 2.2279320657253265,\n",
              " 2.33605420589447,\n",
              " 2.2626851201057434,\n",
              " 2.314371645450592,\n",
              " 2.326907515525818,\n",
              " 2.350640207529068,\n",
              " 2.2068817019462585,\n",
              " 2.2747499346733093,\n",
              " 2.21423277258873,\n",
              " 2.196333557367325,\n",
              " 2.2616366744041443,\n",
              " 2.3033623099327087,\n",
              " 2.3228877186775208,\n",
              " 2.2424309253692627,\n",
              " 2.4381449818611145,\n",
              " 2.245603322982788,\n",
              " 2.331564486026764,\n",
              " 2.2930222749710083,\n",
              " 2.340356171131134,\n",
              " 2.4515133798122406,\n",
              " 2.2546484768390656,\n",
              " 2.3690748810768127,\n",
              " 2.2294797897338867,\n",
              " 2.2854928076267242,\n",
              " 2.384724885225296,\n",
              " 2.2885003089904785,\n",
              " 2.2831750214099884,\n",
              " 2.2499087750911713,\n",
              " 2.269616514444351,\n",
              " 2.3011022806167603,\n",
              " 2.349145472049713,\n",
              " 2.4633472561836243,\n",
              " 2.35982021689415,\n",
              " 2.4232574701309204,\n",
              " 2.3128096759319305,\n",
              " 2.33357697725296,\n",
              " 2.277152866125107,\n",
              " 2.4990379214286804,\n",
              " 2.2990408837795258,\n",
              " 2.378126382827759,\n",
              " 2.2840641736984253,\n",
              " 2.5453903675079346,\n",
              " 2.3875211477279663,\n",
              " 2.5088053941726685,\n",
              " 2.3459560871124268,\n",
              " 2.387766122817993,\n",
              " 2.3412395417690277,\n",
              " 2.4864278435707092,\n",
              " 2.3946069478988647,\n",
              " 2.318685621023178,\n",
              " 2.3156208395957947,\n",
              " 2.392737567424774,\n",
              " 2.4749516248703003,\n",
              " 2.491024136543274,\n",
              " 2.4855311810970306,\n",
              " 2.4146266281604767,\n",
              " 2.3341904282569885,\n",
              " 2.4817804098129272,\n",
              " 2.392122209072113,\n",
              " 2.3822369277477264,\n",
              " 2.4539502263069153,\n",
              " 2.490110158920288,\n",
              " 2.474578857421875,\n",
              " 2.4469293355941772,\n",
              " 2.3517693877220154,\n",
              " 2.323896825313568,\n",
              " 2.6289316415786743,\n",
              " 2.589056611061096,\n",
              " 2.4838106632232666,\n",
              " 2.4420236349105835,\n",
              " 2.393888533115387,\n",
              " 2.486611843109131,\n",
              " 2.5775503516197205,\n",
              " 2.4163492918014526,\n",
              " 2.313081204891205,\n",
              " 2.3640288412570953,\n",
              " 2.416285663843155,\n",
              " 2.395254135131836,\n",
              " 2.452288269996643,\n",
              " 2.382645905017853,\n",
              " 2.410311758518219,\n",
              " 2.614544093608856,\n",
              " 2.3880022764205933,\n",
              " 2.4239933490753174,\n",
              " 2.3425301015377045,\n",
              " 2.4735912680625916,\n",
              " 2.4129758179187775,\n",
              " 2.4106843173503876,\n",
              " 2.4111390709877014,\n",
              " 2.4177480041980743,\n",
              " 2.546585977077484,\n",
              " 2.327237993478775,\n",
              " 2.3417066633701324,\n",
              " 2.4737881422042847,\n",
              " 2.4363744854927063,\n",
              " 2.519567131996155,\n",
              " 2.3960295021533966,\n",
              " 2.4708258509635925,\n",
              " 2.4110992550849915,\n",
              " 2.3821929693222046,\n",
              " 2.4570881128311157,\n",
              " 2.413689970970154,\n",
              " 2.6091917157173157,\n",
              " 2.3574036955833435,\n",
              " 2.393174886703491,\n",
              " 2.413040190935135,\n",
              " 2.38333922624588,\n",
              " 2.4240352511405945,\n",
              " 2.498218059539795,\n",
              " 2.3222840428352356,\n",
              " 2.41907200217247,\n",
              " 2.39851513504982,\n",
              " 2.43507319688797,\n",
              " 2.3264529705047607,\n",
              " 2.4548167884349823,\n",
              " 2.413329988718033,\n",
              " 2.582797586917877,\n",
              " 2.5750167965888977,\n",
              " 2.4990182518959045,\n",
              " 2.53794464468956,\n",
              " 2.4162739515304565,\n",
              " 2.4760963320732117,\n",
              " 2.4442375898361206,\n",
              " 2.396426022052765,\n",
              " 2.5971890091896057,\n",
              " 2.407477617263794,\n",
              " 2.4969234466552734,\n",
              " 2.439437747001648,\n",
              " 2.624162197113037,\n",
              " 2.5322435200214386,\n",
              " 2.5326653718948364,\n",
              " 2.43914994597435,\n",
              " 2.3755010068416595,\n",
              " 2.477911949157715,\n",
              " 2.5584110021591187,\n",
              " 2.5873612761497498,\n",
              " 2.4468588829040527,\n",
              " 2.4304943084716797,\n",
              " 2.5181659758090973,\n",
              " 2.436715006828308,\n",
              " 2.6748858094215393,\n",
              " 2.4890410900115967,\n",
              " 2.5733362436294556,\n",
              " 2.4962449073791504,\n",
              " 2.523156523704529,\n",
              " 2.491279125213623,\n",
              " 2.4711981415748596,\n",
              " 2.474038600921631,\n",
              " 2.4790345430374146,\n",
              " 2.547892451286316,\n",
              " 2.463224172592163,\n",
              " 2.5798439979553223,\n",
              " 2.438861131668091,\n",
              " 2.51913845539093,\n",
              " 2.5222233533859253,\n",
              " 2.4341388940811157,\n",
              " 2.441351354122162,\n",
              " 2.516781508922577,\n",
              " 2.5041709542274475,\n",
              " 2.474760591983795,\n",
              " 2.4663718342781067,\n",
              " 2.5252909064292908,\n",
              " 2.614071011543274,\n",
              " 2.445102572441101,\n",
              " 2.45375794172287,\n",
              " 2.6501272320747375,\n",
              " 2.427374005317688,\n",
              " 2.5153809785842896,\n",
              " 2.523265242576599,\n",
              " 2.584493100643158,\n",
              " 2.6009557843208313,\n",
              " 2.5494267344474792,\n",
              " 2.4978352189064026,\n",
              " 2.505109488964081,\n",
              " 2.6319496035575867,\n",
              " 2.467590808868408,\n",
              " 2.4680137038230896,\n",
              " 2.480442225933075,\n",
              " 2.4569624066352844,\n",
              " 2.452574133872986,\n",
              " 2.761710047721863,\n",
              " 2.5428346991539,\n",
              " 2.571677088737488,\n",
              " 2.5481865406036377,\n",
              " 2.604603886604309,\n",
              " 2.548259675502777,\n",
              " 2.5327876210212708,\n",
              " 2.547111392021179,\n",
              " 2.494391620159149,\n",
              " 2.656240224838257,\n",
              " 2.481488287448883,\n",
              " 2.5586811900138855,\n",
              " 2.6116011142730713,\n",
              " 2.421776533126831,\n",
              " 2.7058215737342834,\n",
              " 2.549569308757782,\n",
              " 2.4129152297973633,\n",
              " 2.4944417476654053,\n",
              " 2.568361818790436,\n",
              " 2.5147817134857178,\n",
              " 2.5406516194343567,\n",
              " 2.526663601398468,\n",
              " 2.680077373981476,\n",
              " 2.5164183378219604,\n",
              " 2.567290246486664,\n",
              " 2.5184722542762756,\n",
              " 2.567741811275482,\n",
              " 2.625011682510376,\n",
              " 2.4569011330604553,\n",
              " 2.5330641865730286,\n",
              " 2.6527557969093323,\n",
              " 2.4643494486808777,\n",
              " 2.5115108489990234,\n",
              " 2.652813136577606,\n",
              " 2.777258515357971,\n",
              " 2.6229355335235596,\n",
              " 2.5894615650177,\n",
              " 2.6284505128860474,\n",
              " 2.5215529799461365,\n",
              " 2.491090416908264,\n",
              " 2.6342287063598633,\n",
              " 2.6934040784835815,\n",
              " 2.618225872516632,\n",
              " 2.628070294857025,\n",
              " 2.5651729106903076,\n",
              " 2.525906205177307,\n",
              " 2.5464336276054382,\n",
              " 2.580083131790161,\n",
              " 2.7094785571098328,\n",
              " 2.7871487736701965,\n",
              " 2.531713902950287,\n",
              " 2.425101101398468,\n",
              " 2.5975271463394165,\n",
              " 2.6372398734092712,\n",
              " 2.486562430858612,\n",
              " 2.5826478004455566,\n",
              " 2.549485981464386,\n",
              " 2.5344940423965454,\n",
              " 2.638028085231781,\n",
              " 2.5177462100982666,\n",
              " 2.5861458778381348,\n",
              " 2.5756086707115173,\n",
              " 2.5143919587135315,\n",
              " 2.6040796637535095,\n",
              " 2.580303966999054,\n",
              " 2.620291531085968,\n",
              " 2.6460794806480408,\n",
              " 2.513030767440796,\n",
              " 2.613280951976776,\n",
              " 2.6373292803764343,\n",
              " 2.651330888271332,\n",
              " 2.5152540802955627,\n",
              " 2.4291866421699524,\n",
              " 2.601933717727661,\n",
              " 2.5691885352134705,\n",
              " 2.6583475470542908,\n",
              " 2.62126886844635,\n",
              " 2.589890956878662,\n",
              " 2.497542917728424,\n",
              " 2.4942251443862915,\n",
              " 2.4985055923461914,\n",
              " 2.4921271800994873,\n",
              " 2.5596832633018494,\n",
              " 2.4647862315177917,\n",
              " 2.5943076610565186,\n",
              " 2.4620596766471863,\n",
              " 2.6122284531593323,\n",
              " 2.536701798439026,\n",
              " 2.5707757472991943,\n",
              " 2.610776126384735,\n",
              " 2.6283098459243774,\n",
              " 2.5852835178375244,\n",
              " 2.5889129042625427,\n",
              " 2.592357575893402,\n",
              " 2.538779854774475,\n",
              " 2.6696603894233704,\n",
              " 2.6082886457443237,\n",
              " 2.6387088298797607,\n",
              " 2.723527729511261,\n",
              " 2.560532510280609,\n",
              " 2.4516389966011047,\n",
              " 2.5926093459129333,\n",
              " 2.5438040494918823,\n",
              " 2.4584503173828125,\n",
              " 2.623317778110504,\n",
              " 2.590276837348938,\n",
              " 2.614877164363861,\n",
              " 2.553679049015045,\n",
              " 2.548869490623474,\n",
              " 2.5394965410232544,\n",
              " 2.585635721683502,\n",
              " 2.6282856464385986,\n",
              " 2.5892285108566284,\n",
              " 2.5713197588920593,\n",
              " 2.5657819509506226,\n",
              " 2.609193742275238,\n",
              " 2.6235361099243164,\n",
              " 2.493220627307892,\n",
              " 2.526683509349823,\n",
              " 2.5719348788261414,\n",
              " 2.5961557626724243,\n",
              " 2.522431194782257,\n",
              " 2.6458088755607605,\n",
              " 2.5078181624412537,\n",
              " 2.526291072368622,\n",
              " 2.542143166065216,\n",
              " 2.6825680136680603,\n",
              " 2.5060893893241882,\n",
              " 2.5620755553245544,\n",
              " 2.528629720211029,\n",
              " 2.639863610267639,\n",
              " 2.5324257016181946,\n",
              " 2.6630048751831055,\n",
              " 2.5915510654449463,\n",
              " 2.5595973134040833,\n",
              " 2.605696678161621,\n",
              " 2.6469627618789673,\n",
              " 2.6111212968826294,\n",
              " 2.572967827320099,\n",
              " 2.594120502471924,\n",
              " 2.7050029039382935,\n",
              " 2.668456733226776,\n",
              " 2.6501417756080627,\n",
              " 2.5737498998641968,\n",
              " 2.500912666320801,\n",
              " 2.530189037322998,\n",
              " 2.5689130425453186,\n",
              " 2.5450609922409058,\n",
              " 2.6189359426498413,\n",
              " 2.6151023507118225,\n",
              " 2.5398460030555725,\n",
              " 2.6664066314697266,\n",
              " 2.60161554813385,\n",
              " 2.563536763191223,\n",
              " 2.6060953736305237,\n",
              " 2.5986440777778625,\n",
              " 2.590845465660095,\n",
              " 2.576540529727936,\n",
              " 2.574321210384369,\n",
              " 2.6206031441688538,\n",
              " 2.547184109687805,\n",
              " 2.536564826965332,\n",
              " 2.5833113193511963,\n",
              " 2.617096185684204,\n",
              " 2.6557810306549072,\n",
              " 2.534651279449463,\n",
              " 2.555299460887909,\n",
              " 2.5715219974517822,\n",
              " 2.623189687728882,\n",
              " 2.648806631565094,\n",
              " 2.5696701407432556,\n",
              " 2.6162678599357605,\n",
              " 2.713282883167267,\n",
              " 2.600854754447937,\n",
              " 2.6352527737617493,\n",
              " 2.5989524722099304,\n",
              " 2.664936661720276,\n",
              " 2.4919865131378174,\n",
              " 2.6047317385673523,\n",
              " 2.627364456653595,\n",
              " 2.657503128051758,\n",
              " 2.6304014921188354,\n",
              " 2.5290879011154175,\n",
              " 2.58990341424942,\n",
              " 2.6080739498138428,\n",
              " 2.557651996612549,\n",
              " 2.654717981815338,\n",
              " 2.633663773536682,\n",
              " 2.770480215549469,\n",
              " 2.5867801308631897,\n",
              " 2.7434735894203186,\n",
              " 2.717663288116455,\n",
              " 2.6801790595054626,\n",
              " 2.6471540927886963,\n",
              " 2.7809556126594543,\n",
              " 2.573791742324829,\n",
              " 2.5965006351470947,\n",
              " 2.628164291381836,\n",
              " 2.56226122379303,\n",
              " 2.6305582523345947,\n",
              " 2.66242778301239,\n",
              " 2.656418204307556,\n",
              " 2.6033119559288025,\n",
              " 2.577288806438446,\n",
              " 2.680262267589569,\n",
              " 2.6186118125915527,\n",
              " 2.632047653198242,\n",
              " 2.5612903237342834,\n",
              " 2.6880263090133667,\n",
              " 2.6582425832748413,\n",
              " 2.574237048625946,\n",
              " 2.7038089632987976,\n",
              " 2.5963857173919678,\n",
              " 2.6088701486587524,\n",
              " 2.5713659524917603,\n",
              " 2.57111656665802,\n",
              " 2.597860872745514,\n",
              " 2.7322162985801697,\n",
              " 2.6220738887786865,\n",
              " 2.7022144198417664,\n",
              " 2.7426140904426575,\n",
              " 2.621489703655243,\n",
              " 2.653510093688965,\n",
              " 2.6439707279205322,\n",
              " 2.6413987278938293,\n",
              " 2.549018383026123,\n",
              " 2.6193451285362244,\n",
              " 2.592335522174835,\n",
              " 2.646087169647217,\n",
              " 2.5599297881126404,\n",
              " 2.624287486076355,\n",
              " 2.661007523536682,\n",
              " 2.6148025393486023,\n",
              " 2.5888301730155945,\n",
              " 2.6687857508659363,\n",
              " 2.667390465736389,\n",
              " 2.6521286368370056,\n",
              " 2.611183226108551,\n",
              " 2.5367462038993835,\n",
              " 2.5882081985473633,\n",
              " 2.590023994445801,\n",
              " 2.596347391605377,\n",
              " 2.6249199509620667,\n",
              " 2.640056848526001,\n",
              " 2.5848944783210754,\n",
              " 2.7399853467941284,\n",
              " 2.640484631061554,\n",
              " 2.6365174055099487,\n",
              " 2.781804859638214,\n",
              " 2.5927194356918335,\n",
              " 2.6769307255744934,\n",
              " 2.6154014468193054,\n",
              " 2.593092441558838,\n",
              " 2.511594295501709,\n",
              " 2.6331990361213684,\n",
              " 2.6201981902122498,\n",
              " 2.640736401081085,\n",
              " 2.6253132820129395,\n",
              " 2.751229763031006,\n",
              " 2.659545361995697,\n",
              " 2.540902256965637,\n",
              " 2.6148701906204224,\n",
              " 2.674564480781555,\n",
              " 2.657003104686737,\n",
              " 2.705042779445648,\n",
              " 2.7179558277130127,\n",
              " 2.6789514422416687,\n",
              " 2.7033032178878784,\n",
              " 2.6226131319999695,\n",
              " 2.6485477685928345,\n",
              " 2.650397002696991,\n",
              " 2.6966957449913025,\n",
              " 2.561346173286438,\n",
              " 2.6155635714530945,\n",
              " 2.642434537410736,\n",
              " 2.6666120290756226,\n",
              " 2.659944474697113,\n",
              " 2.592956244945526]"
            ]
          },
          "metadata": {
            "tags": []
          },
          "execution_count": 64
        }
      ]
    },
    {
      "cell_type": "markdown",
      "metadata": {
        "id": "I-Nf1mUUxzQ2"
      },
      "source": [
        "plotting validation score"
      ]
    },
    {
      "cell_type": "code",
      "metadata": {
        "colab": {
          "base_uri": "https://localhost:8080/",
          "height": 279
        },
        "id": "FHIKBSDqxCY1",
        "outputId": "c0c9c184-1ffb-418d-ee1d-7c0b90eb5973"
      },
      "source": [
        "plt.plot(range(1,len(average_mae_history)+1),average_mae_history)\n",
        "plt.xlabel(\"epochs\")\n",
        "plt.ylabel(\"validation MAE\")\n",
        "plt.show()"
      ],
      "execution_count": null,
      "outputs": [
        {
          "output_type": "display_data",
          "data": {
            "image/png": "[encoded data removed]",
            "text/plain": [
              "<Figure size 432x288 with 1 Axes>"
            ]
          },
          "metadata": {
            "tags": [],
            "needs_background": "light"
          }
        }
      ]
    },
    {
      "cell_type": "markdown",
      "metadata": {
        "id": "pkVHDU14yRdA"
      },
      "source": [
        "Plotting validation scores excluding first 10 datasets"
      ]
    },
    {
      "cell_type": "code",
      "metadata": {
        "id": "nx-uQiOMyOPF"
      },
      "source": [
        "def smooth_curve(points,factor=0.9):\n",
        "  smoothed_points=[]\n",
        "  for point in points:\n",
        "    if smoothed_points:\n",
        "      previous=smoothed_points[-1]\n",
        "      smoothed_points.append(previous*factor + point*(1-factor))\n",
        "    else:\n",
        "      smoothed_points.append(point)\n",
        "  return smoothed_points\n",
        "     "
      ],
      "execution_count": null,
      "outputs": []
    },
    {
      "cell_type": "code",
      "metadata": {
        "id": "eXOLLOkizcRq"
      },
      "source": [
        "smooth_mae_history=smooth_curve(average_mae_history[10:])\n"
      ],
      "execution_count": null,
      "outputs": []
    },
    {
      "cell_type": "code",
      "metadata": {
        "colab": {
          "base_uri": "https://localhost:8080/",
          "height": 279
        },
        "id": "UJoLwG4ZzplN",
        "outputId": "3d09ebde-f5de-4796-e9f8-faf07a1a5b23"
      },
      "source": [
        "plt.plot(range(1,len(smooth_mae_history)+1),smooth_mae_history)\n",
        "plt.xlabel(\"epochs\")\n",
        "plt.ylabel(\"validation mae\")\n",
        "plt.show()"
      ],
      "execution_count": null,
      "outputs": [
        {
          "output_type": "display_data",
          "data": {
            "image/png": "[encoded data removed]",
            "text/plain": [
              "<Figure size 432x288 with 1 Axes>"
            ]
          },
          "metadata": {
            "tags": [],
            "needs_background": "light"
          }
        }
      ]
    },
    {
      "cell_type": "markdown",
      "metadata": {
        "id": "V8j85uxp03jq"
      },
      "source": [
        "Training the final model"
      ]
    },
    {
      "cell_type": "code",
      "metadata": {
        "colab": {
          "base_uri": "https://localhost:8080/"
        },
        "id": "pmH-N0Ku0Z82",
        "outputId": "7c2aebce-823c-4ccf-93d6-779375435b8c"
      },
      "source": [
        "model=build_model()\n",
        "model.fit(train_data,train_target,epochs=80,batch_size=16,verbose=0)\n",
        "test_mse_score,test_mae_score=model.evaluate(test_data,test_target)"
      ],
      "execution_count": null,
      "outputs": [
        {
          "output_type": "stream",
          "text": [
            "4/4 [==============================] - 0s 3ms/step - loss: 14.3468 - mae: 2.5272\n"
          ],
          "name": "stdout"
        }
      ]
    },
    {
      "cell_type": "code",
      "metadata": {
        "id": "oC7qVraG1RX4"
      },
      "source": [
        ""
      ],
      "execution_count": null,
      "outputs": []
    }
  ]
}